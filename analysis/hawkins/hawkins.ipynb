{
 "cells": [
  {
   "cell_type": "code",
   "execution_count": 1,
   "metadata": {},
   "outputs": [],
   "source": [
    "import pandas as pd\n",
    "import scipy.stats as stats\n",
    "import numpy as np\n",
    "import os"
   ]
  },
  {
   "cell_type": "code",
   "execution_count": 14,
   "metadata": {},
   "outputs": [],
   "source": [
    "df = pd.read_csv('results.csv')\n",
    "\n",
    "df = df[df['verb_count'] >= 1]\n",
    "df['BehavDOpreference'] = df['BehavDOpreference']/100\n",
    "df = df.groupby('verb_id')[['bert_ratio', 'BehavDOpreference', 'ngram_ratio', 'lstm_ratio', 'gpt2_ratio', 'gpt2-large_ratio', 'lstm-large_ratio', 'balanced_ratio', 'default_ratio', 'loose_balanced_ratio', 'loose_default_ratio']].mean().reset_index()\n",
    "spearmans = [\n",
    "    stats.spearmanr(df['BehavDOpreference'], df['balanced_ratio']),\n",
    "    stats.spearmanr(df['BehavDOpreference'], df['default_ratio']),\n",
    "    stats.spearmanr(df['BehavDOpreference'], df['loose_balanced_ratio']),\n",
    "    stats.spearmanr(df['BehavDOpreference'], df['loose_default_ratio'])\n",
    "]"
   ]
  },
  {
   "cell_type": "code",
   "execution_count": 15,
   "metadata": {},
   "outputs": [
    {
     "data": {
      "text/plain": [
       "[SignificanceResult(statistic=0.4182582123758594, pvalue=7.455076409177521e-08),\n",
       " SignificanceResult(statistic=0.49137214694490233, pvalue=1.124013381785533e-10),\n",
       " SignificanceResult(statistic=0.44692278825405757, pvalue=6.994097099527259e-09),\n",
       " SignificanceResult(statistic=0.5026335893208957, pvalue=3.5804000301936805e-11)]"
      ]
     },
     "execution_count": 15,
     "metadata": {},
     "output_type": "execute_result"
    }
   ],
   "source": [
    "spearmans"
   ]
  },
  {
   "cell_type": "code",
   "execution_count": null,
   "metadata": {},
   "outputs": [],
   "source": []
  }
 ],
 "metadata": {
  "kernelspec": {
   "display_name": "base",
   "language": "python",
   "name": "python3"
  },
  "language_info": {
   "codemirror_mode": {
    "name": "ipython",
    "version": 3
   },
   "file_extension": ".py",
   "mimetype": "text/x-python",
   "name": "python",
   "nbconvert_exporter": "python",
   "pygments_lexer": "ipython3",
   "version": "3.10.10"
  }
 },
 "nbformat": 4,
 "nbformat_minor": 2
}
